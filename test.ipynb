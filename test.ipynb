{
 "cells": [
  {
   "cell_type": "markdown",
   "metadata": {},
   "source": [
    "# Summary\n",
    "This notebook shows how to apply the proposed algorithms."
   ]
  },
  {
   "cell_type": "code",
   "execution_count": 1,
   "metadata": {},
   "outputs": [],
   "source": [
    "import numpy as np\n",
    "\n",
    "from generator import process_singlescale, process_multiscale\n",
    "from metrics import count_accuracy_complete\n",
    "from models import MSCASTLE, SSCASTLE\n",
    "from numpy.random import seed "
   ]
  },
  {
   "cell_type": "markdown",
   "metadata": {},
   "source": [
    "## SS-CASTLE"
   ]
  },
  {
   "cell_type": "code",
   "execution_count": 2,
   "metadata": {},
   "outputs": [],
   "source": [
    "N=5\n",
    "T=512\n",
    "beta = 1. #non-Gaussian"
   ]
  },
  {
   "cell_type": "code",
   "execution_count": 3,
   "metadata": {},
   "outputs": [],
   "source": [
    "seed(seed=123456789)\n",
    "Y, C = process_singlescale(N,T,beta)"
   ]
  },
  {
   "cell_type": "code",
   "execution_count": 4,
   "metadata": {},
   "outputs": [
    {
     "name": "stdout",
     "output_type": "stream",
     "text": [
      "Estimated lag: 1; Ground truth: 1\n"
     ]
    },
    {
     "data": {
      "text/plain": [
       "{'accuracy': 0.9848484848484849,\n",
       " 'fdr|(1-precision)': 0.05555555555555558,\n",
       " 'tpr|recall': 1.0,\n",
       " 'fpr': 0.030303030303030304,\n",
       " 'f1': 0.9714285714285714,\n",
       " 'nnz': 18,\n",
       " 'true_nnz': 17,\n",
       " 'shd-missing': 0,\n",
       " 'shd-extra': 1,\n",
       " 'shd-reverse': 0,\n",
       " 'shd': 1,\n",
       " 'shd/true_nnz': 0.058823529411764705}"
      ]
     },
     "execution_count": 4,
     "metadata": {},
     "output_type": "execute_result"
    }
   ],
   "source": [
    "ssm = SSCASTLE(Y.T, lag=None)\n",
    "print(\"Estimated lag: {}; Ground truth: {}\".format(ssm.lag, C.shape[0]-1))\n",
    "\n",
    "Bs, _ = ssm.solver(reg='l1', thresh=.1, interval=(-1.,1.), lmbd=1.e-3, h_tol=1.e-8, verbose=False)\n",
    "\n",
    "#in the ground truth, parents are on the columns,\n",
    "#whereas in the estimate on the rows.\n",
    "count_accuracy_complete(np.expand_dims(C.transpose(0,2,1),0), np.expand_dims(Bs,0))"
   ]
  },
  {
   "cell_type": "markdown",
   "metadata": {},
   "source": [
    "## MS-CASTLE"
   ]
  },
  {
   "cell_type": "code",
   "execution_count": 5,
   "metadata": {},
   "outputs": [],
   "source": [
    "transform='dwt'\n",
    "wv='db5'"
   ]
  },
  {
   "cell_type": "code",
   "execution_count": 6,
   "metadata": {},
   "outputs": [],
   "source": [
    "seed(seed=123456789)\n",
    "Y, Y_mra, eps_mra, C_true = process_multiscale(N, T, beta, transform=transform, wv=wv) "
   ]
  },
  {
   "cell_type": "code",
   "execution_count": 7,
   "metadata": {},
   "outputs": [
    {
     "data": {
      "text/plain": [
       "{'accuracy': 0.8449790512231383,\n",
       " 'fdr|(1-precision)': 0.2909090909090909,\n",
       " 'tpr|recall': 0.7959183673469388,\n",
       " 'fpr': 0.10596026490066225,\n",
       " 'f1': 0.75,\n",
       " 'nnz': 55,\n",
       " 'true_nnz': 49,\n",
       " 'shd-missing': 8,\n",
       " 'shd-extra': 14,\n",
       " 'shd-reverse': 2,\n",
       " 'shd': 24,\n",
       " 'shd/true_nnz': 0.4897959183673469}"
      ]
     },
     "execution_count": 7,
     "metadata": {},
     "output_type": "execute_result"
    }
   ],
   "source": [
    "model = MSCASTLE(Y.T, lag=1, multiscale=True, transform='swt', wavelet='db5', ndetails=3)\n",
    "Bs = model._solver(reg='l1', thresh=.1, interval=(-1.,1.), lmbd=1.e-2, h_tol=1.e-10, verbose=False)\n",
    "count_accuracy_complete(C_true, Bs.transpose((0,1,3,2)))"
   ]
  }
 ],
 "metadata": {
  "kernelspec": {
   "display_name": "mcsl",
   "language": "python",
   "name": "python3"
  },
  "language_info": {
   "codemirror_mode": {
    "name": "ipython",
    "version": 3
   },
   "file_extension": ".py",
   "mimetype": "text/x-python",
   "name": "python",
   "nbconvert_exporter": "python",
   "pygments_lexer": "ipython3",
   "version": "3.11.5"
  },
  "orig_nbformat": 4
 },
 "nbformat": 4,
 "nbformat_minor": 2
}
